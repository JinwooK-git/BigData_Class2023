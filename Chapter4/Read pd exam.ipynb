{
 "cells": [
  {
   "cell_type": "code",
   "execution_count": 2,
   "id": "0bb59166",
   "metadata": {},
   "outputs": [],
   "source": [
    "import pandas as pd"
   ]
  },
  {
   "cell_type": "markdown",
   "id": "3c79c854",
   "metadata": {},
   "source": [
    "판다스 사용"
   ]
  },
  {
   "cell_type": "code",
   "execution_count": 3,
   "id": "853b7072",
   "metadata": {},
   "outputs": [],
   "source": [
    "file_path= 'C:/Dev/G2023/BigData/Chapter4/data/bicycle.csv'"
   ]
  },
  {
   "cell_type": "markdown",
   "id": "18221fe8",
   "metadata": {},
   "source": [
    "파일의 경로는 실습자에 따라서 별도로 지정, 편의성을 위해선 C에 하위폴더 없이 지정하거나 jupyter에서 작성한 코드와 동일경로로 지정\n",
    "실습 데이터의 경우 용량문제로 링크 별첨 https://data.seoul.go.kr/dataList/OA-15182/F/1/datasetView.do 중 2212 파일"
   ]
  },
  {
   "cell_type": "code",
   "execution_count": null,
   "id": "cf6a402b",
   "metadata": {},
   "outputs": [],
   "source": [
    "df1 = pd.read_csv(file_path, engine='python', encoding='cp949')"
   ]
  },
  {
   "cell_type": "markdown",
   "id": "d05f03cb",
   "metadata": {},
   "source": [
    "자료 csv가 cp949로 읽어지기때문에 인코딩을 cp949로 지정 (지정하지않을경우 에러)"
   ]
  },
  {
   "cell_type": "markdown",
   "id": "5c514822",
   "metadata": {},
   "source": [
    "자료형식에 땨라 read_ 후행에 csv excl json 으로 종류가 나눠짐"
   ]
  },
  {
   "cell_type": "code",
   "execution_count": null,
   "id": "827008eb",
   "metadata": {
    "scrolled": true
   },
   "outputs": [],
   "source": [
    "df1"
   ]
  },
  {
   "cell_type": "code",
   "execution_count": null,
   "id": "1e78b19a",
   "metadata": {},
   "outputs": [],
   "source": []
  }
 ],
 "metadata": {
  "kernelspec": {
   "display_name": "Python 3 (ipykernel)",
   "language": "python",
   "name": "python3"
  },
  "language_info": {
   "codemirror_mode": {
    "name": "ipython",
    "version": 3
   },
   "file_extension": ".py",
   "mimetype": "text/x-python",
   "name": "python",
   "nbconvert_exporter": "python",
   "pygments_lexer": "ipython3",
   "version": "3.9.13"
  }
 },
 "nbformat": 4,
 "nbformat_minor": 5
}
